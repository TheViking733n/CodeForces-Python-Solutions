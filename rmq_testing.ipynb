{
 "cells": [
  {
   "cell_type": "code",
   "execution_count": 20,
   "metadata": {},
   "outputs": [],
   "source": [
    "class RangeQuery:\n",
    "    def __init__(self, data, func=max):\n",
    "        self.func = func\n",
    "        self._data = _data = [list(data)]\n",
    "        i, n = 1, len(_data[0])\n",
    "        while 2 * i <= n:\n",
    "            prev = _data[-1]\n",
    "            _data.append([func(prev[j], prev[j + i]) for j in range(n - 2 * i + 1)])\n",
    "            i <<= 1\n",
    "\n",
    "    def query(self, start, stop):\n",
    "        \"\"\"func of data[start, stop)\"\"\"\n",
    "        depth = (stop - start).bit_length() - 1\n",
    "        return self.func(self._data[depth][start], self._data[depth][stop - (1 << depth)])\n",
    "\n",
    "    def __getitem__(self, idx):\n",
    "        return self._data[0][idx]"
   ]
  },
  {
   "cell_type": "code",
   "execution_count": 21,
   "metadata": {},
   "outputs": [],
   "source": [
    "arr = [1, 4, 2, 5, 600, 0, 4, 6, 10, 3]"
   ]
  },
  {
   "cell_type": "code",
   "execution_count": 22,
   "metadata": {},
   "outputs": [],
   "source": [
    "rmq = RangeQuery(arr)"
   ]
  },
  {
   "cell_type": "code",
   "execution_count": 23,
   "metadata": {},
   "outputs": [
    {
     "data": {
      "text/plain": [
       "600"
      ]
     },
     "execution_count": 23,
     "metadata": {},
     "output_type": "execute_result"
    }
   ],
   "source": [
    "rmq.query(3, 6)"
   ]
  },
  {
   "cell_type": "code",
   "execution_count": null,
   "metadata": {},
   "outputs": [],
   "source": []
  }
 ],
 "metadata": {
  "kernelspec": {
   "display_name": "Python 3.9.0 64-bit",
   "language": "python",
   "name": "python3"
  },
  "language_info": {
   "codemirror_mode": {
    "name": "ipython",
    "version": 3
   },
   "file_extension": ".py",
   "mimetype": "text/x-python",
   "name": "python",
   "nbconvert_exporter": "python",
   "pygments_lexer": "ipython3",
   "version": "3.9.0"
  },
  "orig_nbformat": 4,
  "vscode": {
   "interpreter": {
    "hash": "8f5816e6188795d1cc8afa4306b69c5e3a103f064a75e820fe776234e4cf83e8"
   }
  }
 },
 "nbformat": 4,
 "nbformat_minor": 2
}
