{
 "cells": [
  {
   "cell_type": "code",
   "execution_count": 44,
   "metadata": {},
   "outputs": [],
   "source": [
    "\n",
    "def find_SCC(graph):\n",
    "    \"\"\"\n",
    "    Finds what strongly connected components each node\n",
    "    is a part of in a directed graph,\n",
    "    it also finds a weak topological ordering of the nodes\n",
    "    \"\"\"\n",
    "    n = len(graph)\n",
    "    comp = [-1] * n\n",
    "    top_order = []\n",
    "\n",
    "    Q = []\n",
    "    stack = []\n",
    "    new_node = None\n",
    "    for root in range(n):\n",
    "        if comp[root] >= 0:\n",
    "            continue\n",
    "\n",
    "        # Do a dfs while keeping track of depth\n",
    "        Q.append(root)\n",
    "        root_depth = len(top_order)\n",
    "        while Q:\n",
    "            node = Q.pop()\n",
    "            if node >= 0:\n",
    "                if comp[node] >= 0:\n",
    "                    continue\n",
    "                # First time\n",
    "\n",
    "                # Index the node\n",
    "                comp[node] = len(top_order) + len(stack)\n",
    "                stack.append(node)\n",
    "\n",
    "                # Do a dfs\n",
    "                Q.append(~node)\n",
    "                Q += graph[node]\n",
    "            else:\n",
    "                # Second time\n",
    "                node = ~node\n",
    "\n",
    "                # calc low link\n",
    "                low = index = comp[node]\n",
    "                for nei in graph[node]:\n",
    "                    if root_depth <= comp[nei]:\n",
    "                        low = min(low, comp[nei])\n",
    "\n",
    "                # low link same as index, so create SCC\n",
    "                if low == index:\n",
    "                    while new_node != node:\n",
    "                        new_node = stack.pop()\n",
    "                        comp[new_node] = index\n",
    "                        top_order.append(new_node)\n",
    "                else:\n",
    "                    comp[node] = low\n",
    "\n",
    "    top_order.reverse()\n",
    "    return comp, top_order\n",
    " \n",
    "class TwoSat:\n",
    "    def __init__(self, n):\n",
    "        self.n = n\n",
    "        self.graph = [[] for _ in range(2 * n)]\n",
    " \n",
    "    def _imply(self, x, y):\n",
    "        self.graph[x].append(y if y >= 0 else 2 * self.n + y)\n",
    " \n",
    "    def either(self, x, y):\n",
    "        \"\"\"either x or y must be True\"\"\"\n",
    "        self._imply(~x, y)\n",
    "        self._imply(~y, x)\n",
    " \n",
    "    def set(self, x):\n",
    "        \"\"\"x must be True\"\"\"\n",
    "        self._imply(~x, x)\n",
    " \n",
    "    def solve(self):\n",
    "        SCC = find_SCC(self.graph)\n",
    "        order = [0] * (2 * self.n)\n",
    "        for i, comp in enumerate(SCC):\n",
    "            for x in comp:\n",
    "                order[x] = i\n",
    "        for i in range(self.n):\n",
    "            if order[i] == order[~i]:\n",
    "                return False, None\n",
    "        return True, [+(order[i] > order[~i]) for i in range(self.n)]"
   ]
  },
  {
   "cell_type": "code",
   "execution_count": 45,
   "metadata": {},
   "outputs": [],
   "source": [
    "ts = TwoSat(5)"
   ]
  },
  {
   "cell_type": "code",
   "execution_count": 46,
   "metadata": {},
   "outputs": [],
   "source": [
    "ts.either(0, 1)"
   ]
  },
  {
   "cell_type": "code",
   "execution_count": 47,
   "metadata": {},
   "outputs": [
    {
     "data": {
      "text/plain": [
       "(False, None)"
      ]
     },
     "execution_count": 47,
     "metadata": {},
     "output_type": "execute_result"
    }
   ],
   "source": [
    "ts.solve()"
   ]
  },
  {
   "cell_type": "code",
   "execution_count": 48,
   "metadata": {},
   "outputs": [],
   "source": [
    "ts.set(~2)"
   ]
  },
  {
   "cell_type": "code",
   "execution_count": 39,
   "metadata": {},
   "outputs": [
    {
     "data": {
      "text/plain": [
       "(False, None)"
      ]
     },
     "execution_count": 39,
     "metadata": {},
     "output_type": "execute_result"
    }
   ],
   "source": [
    "ts.solve()"
   ]
  },
  {
   "cell_type": "code",
   "execution_count": 32,
   "metadata": {},
   "outputs": [],
   "source": [
    "ts.either(3, 4)"
   ]
  },
  {
   "cell_type": "code",
   "execution_count": 33,
   "metadata": {},
   "outputs": [
    {
     "data": {
      "text/plain": [
       "(True, [0, 1, 0, 0, 1])"
      ]
     },
     "execution_count": 33,
     "metadata": {},
     "output_type": "execute_result"
    }
   ],
   "source": [
    "ts.solve()"
   ]
  },
  {
   "cell_type": "code",
   "execution_count": null,
   "metadata": {},
   "outputs": [],
   "source": []
  }
 ],
 "metadata": {
  "kernelspec": {
   "display_name": "Python 3",
   "language": "python",
   "name": "python3"
  },
  "language_info": {
   "codemirror_mode": {
    "name": "ipython",
    "version": 3
   },
   "file_extension": ".py",
   "mimetype": "text/x-python",
   "name": "python",
   "nbconvert_exporter": "python",
   "pygments_lexer": "ipython3",
   "version": "3.9.0"
  },
  "orig_nbformat": 4
 },
 "nbformat": 4,
 "nbformat_minor": 2
}
