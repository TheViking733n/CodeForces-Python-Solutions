{
 "cells": [
  {
   "cell_type": "code",
   "execution_count": 4,
   "metadata": {},
   "outputs": [],
   "source": [
    "class SegmentTree:\n",
    "    def __init__(self, n, e, arr=None):\n",
    "        self.n = n\n",
    "        self.log = (n-1).bit_length()\n",
    "        self.size = 1<<self.log       \n",
    "        self.e = e\n",
    "        self.data = [e] * (self.size<<1)\n",
    "        self.len = [1] * (self.size<<1)        \n",
    "        if arr: self.build(arr)\n",
    "            \n",
    "    def _update(self, i): self.data[i] = op(self.data[i<<1], self.data[i<<1|1])\n",
    "    \n",
    "    def build(self, data):\n",
    "        \"\"\"Builds the segment tree [Called Automatically upon __init__]. O(n)\"\"\"\n",
    "        for i, a in enumerate(data, self.size): self.data[i] = a\n",
    "        for i in range(self.size-1, 0, -1):\n",
    "            self._update(i)\n",
    "            self.len[i] = self.len[i<<1] + self.len[i<<1|1]\n",
    "    \n",
    "    def update(self, k, x):\n",
    "        \"\"\"Updates the k-th element (0-indexed) to x. O(log n)\"\"\"\n",
    "        k += self.size\n",
    "        self.data[k] = x\n",
    "        for i in range(1, self.log+1): self._update(k>>i)\n",
    "    def __setitem__(self, k, x):\n",
    "        k += self.size\n",
    "        self.data[k] = x\n",
    "        for i in range(1, self.log+1): self._update(k>>i)\n",
    "            \n",
    "    def add(self, k, x):\n",
    "        \"\"\"Adds x to the k-th element (0-indexed). O(log n)\"\"\"\n",
    "        k += self.size\n",
    "        self.data[k] += x\n",
    "        for i in range(1, self.log+1): self._update(k>>i)\n",
    "    def __iadd__(self, k, x):\n",
    "        k += self.size\n",
    "        self.data[k] += x\n",
    "        for i in range(1, self.log+1): self._update(k>>i)\n",
    "\n",
    "    def get(self, k):\n",
    "        \"\"\"Returns the k-th element (0-indexed). O(1)\"\"\"\n",
    "        return self.data[k+self.size]\n",
    "    def __getitem__(self, k):\n",
    "        return self.data[k+self.size]\n",
    "    \n",
    "    def query(self, l, r):\n",
    "        \"\"\"Returns op(a[l], ..., a[r-1]). O(log n)\"\"\"\n",
    "        sml, smr = self.e, self.e\n",
    "        l += self.size\n",
    "        r += self.size\n",
    "        while l < r:\n",
    "            if l&1:\n",
    "                sml = op(sml, self.data[l])\n",
    "                l += 1\n",
    "            if r&1:\n",
    "                r -= 1\n",
    "                smr = op(self.data[r], smr)\n",
    "            l >>= 1\n",
    "            r >>= 1\n",
    "        return op(sml, smr)\n",
    "    \n",
    "    def query_all(self):\n",
    "        \"\"\"Returns op(a[0], ..., a[n-1]). O(1)\"\"\"\n",
    "        return self.data[1]\n",
    "    \n",
    "    def __repr__(self) -> str:\n",
    "        return f\"STree({[self[i] for i in range(self.n)]})\"\n",
    "\"\"\"\n",
    "Usage of SegmentTree(n, e, arr):\n",
    "    op is a binary operation on S, e.g. op = lambda x, y: x + y\n",
    "    N is the length of the array, e.g. N = 10\n",
    "    e is the identity element of op, e.g. e = 0\n",
    "    A is the initial array, e.g. A = [1] * N\n",
    "\"\"\"\n",
    "# def op(x, y):\n",
    "# e = \n",
    "# seg = SegmentTree(N, e, A)\n",
    "\n",
    "\n",
    "class LazySegmentTree(SegmentTree):\n",
    "    def __init__(self, n, e, id_, arr=None):\n",
    "        super().__init__(n, e, arr)   # builds LazySegmentTree\n",
    "        self.id = id_\n",
    "        self.lazy = [id_] * self.size\n",
    "        \n",
    "    def _all_apply(self, i, F):\n",
    "        self.data[i] = mapping(F, self.data[i], self.len[i])\n",
    "        if i < self.size: self.lazy[i] = composition(F, self.lazy[i])\n",
    "    \n",
    "    def _push(self, i):\n",
    "        self._all_apply(i<<1, self.lazy[i])\n",
    "        self._all_apply(i<<1|1, self.lazy[i])\n",
    "        self.lazy[i] = self.id\n",
    "    \n",
    "    def update(self, k, x):\n",
    "        \"\"\"Updates the k-th element (0-indexed) to x. O(log n)\"\"\"\n",
    "        k += self.size\n",
    "        for i in range(self.log, 0, -1): self._push(k>>i)\n",
    "        self.data[k] = x\n",
    "        for i in range(1, self.log+1): self._update(k>>i)\n",
    "    def __setitem__(self, k, x):\n",
    "        k += self.size\n",
    "        for i in range(self.log, 0, -1): self._push(k>>i)\n",
    "        self.data[k] = x\n",
    "        for i in range(1, self.log+1): self._update(k>>i)\n",
    "            \n",
    "    def apply(self, k, F):\n",
    "        \"\"\"Applies F to the k-th element (0-indexed). O(log n)\"\"\"\n",
    "        k += self.size\n",
    "        for i in range(self.log, 0, -1): self._push(k>>i)\n",
    "        self.data[k] = mapping(F, self.data[k], self.len[k])\n",
    "        for i in range(1, self.log+1): self._update(k>>i)\n",
    "    \n",
    "    def range_apply(self, l, r, F):\n",
    "        \"\"\"Applies F to the elements in [l, r) (0-indexed). O(log n)\n",
    "        Here F is not a lambda function, but an encoded value which is\n",
    "        passed to the mapping and composition functions.\"\"\"\n",
    "        if l == r: return\n",
    "        l += self.size\n",
    "        r += self.size\n",
    "        for i in range(self.log, 0, -1):\n",
    "            if ((l>>i)<<i) != l: self._push(l>>i)\n",
    "            if ((r>>i)<<i) != r: self._push((r-1)>>i)\n",
    "        l2, r2 = l, r\n",
    "        while l < r:\n",
    "            if l&1:\n",
    "                self._all_apply(l, F)\n",
    "                l += 1\n",
    "            if r&1:\n",
    "                r -= 1\n",
    "                self._all_apply(r, F)\n",
    "            l >>= 1\n",
    "            r >>= 1\n",
    "        l, r = l2, r2\n",
    "        for i in range(1, self.log+1):\n",
    "            if ((l>>i)<<i) != l: self._update(l>>i)\n",
    "            if ((r>>i)<<i) != r: self._update((r-1)>>i)\n",
    "        \n",
    "    def range_update(self, l, r, x):\n",
    "        \"\"\"Assigns x to the elements in [l, r) (0-indexed). O(log n)\"\"\"\n",
    "        self.range_apply(l, r, encode(0, x))\n",
    "\n",
    "    def range_add(self, l, r, x):\n",
    "        \"\"\"Adds x to the elements in [l, r) (0-indexed). O(log n)\"\"\"\n",
    "        self.range_apply(l, r, encode(1, x))\n",
    "\n",
    "                \n",
    "    def get(self, k):\n",
    "        \"\"\"Returns the k-th element (0-indexed). O(log n)\"\"\"\n",
    "        k += self.size\n",
    "        for i in range(self.log, 0, -1): self._push(k>>i)\n",
    "        return self.data[k]\n",
    "    def __getitem__(self, k):\n",
    "        k += self.size\n",
    "        for i in range(self.log, 0, -1): self._push(k>>i)\n",
    "        return self.data[k]\n",
    "    \n",
    "    def query(self, l, r):\n",
    "        \"\"\"Returns op(a[l], ..., a[r-1]). O(log n)\"\"\"\n",
    "        if l == r: return self.e\n",
    "        l += self.size\n",
    "        r += self.size\n",
    "        for i in range(self.log, 0, -1):\n",
    "            if ((l>>i)<<i) != l: self._push(l>>i)\n",
    "            if ((r>>i)<<i) != r: self._push((r-1)>>i)   \n",
    "        sml, smr = self.e, self.e\n",
    "        while l < r:\n",
    "            if l&1:\n",
    "                sml = op(sml, self.data[l])\n",
    "                l += 1\n",
    "            if r&1:\n",
    "                r -= 1\n",
    "                smr = op(self.data[r], smr)\n",
    "            l >>= 1\n",
    "            r >>= 1\n",
    "        return op(sml, smr)\n",
    "\n",
    "    def max_right(self, l, func):\n",
    "        \"\"\"Returns r s.t. func(op(a[l], ..., a[r-1])) holds. O(log n)\"\"\"\n",
    "        if l == self.n: return self.n\n",
    "        l += self.size\n",
    "        for i in range(self.log, 0, -1): self._push(l>>i)\n",
    "        sm = self.e\n",
    "        while 1:\n",
    "            while not l&1: l >>= 1\n",
    "            if not func(op(sm, self.data[l])):\n",
    "                while l < self.size:\n",
    "                    self._push(l)\n",
    "                    l <<= 1\n",
    "                    if func(op(sm, self.data[l])):\n",
    "                        sm = op(sm, self.data[l])\n",
    "                        l += 1\n",
    "                return l - self.size\n",
    "            sm = op(sm, self.data[l])\n",
    "            l += 1\n",
    "            if (l&-l) == l: break\n",
    "        return self.n\n",
    "    \n",
    "    def max_left(self, r, func):\n",
    "        \"\"\"Returns l s.t. func(op(a[l], ..., a[r-1])) holds. O(log n)\"\"\"\n",
    "        if r == 0: return 0\n",
    "        r += self.size\n",
    "        for i in range(self.log, 0, -1): self._push((r-1)>>i)\n",
    "        sm = self.e\n",
    "        while 1:\n",
    "            r -= 1\n",
    "            while r>1 and r&1: r >>= 1\n",
    "            if not func(op(self.data[r], sm)):\n",
    "                while r < self.size:\n",
    "                    self._push(r)\n",
    "                    r = r<<1|1\n",
    "                    if func(op(self.data[r], sm)):\n",
    "                        sm = op(self.data[r], sm)\n",
    "                        r -= 1\n",
    "                return r+1 - self.size\n",
    "            sm = op(self.data[r], sm)\n",
    "            if (r&-r) == r: break\n",
    "        return 0\n",
    "\"\"\"\n",
    "Usage of LazySegmentTree(n, e, id_, A):\n",
    "    N is the size of the array.\n",
    "    e is the identity element of op.\n",
    "    id_ is the identity element of mapping.\n",
    "    A is the initial array.\n",
    "    op is a binary operation. op(a, e) = op(e, a) = a.\n",
    "    op must be associative. op(a, op(b, c)) = op(op(a, b), c).\n",
    "\"\"\"\n",
    "#def op(x, y):\n",
    "#e =\n",
    "#def composition(f, g):\n",
    "#id_ =\n",
    "#def mapping(f, x, size):\n",
    "#seg = LazySegmentTree(N, e, id_, A)\n",
    "\n",
    "\n",
    "# # Range Sum Query with Modulo\n",
    "# mask = (1<<30)-1   # 1<<30 is used because it is just greater than 1e9\n",
    "# def composition(f, g):\n",
    "#     a, b = f>>30, f&mask\n",
    "#     c, d = g>>30, g&mask\n",
    "#     e, f = a*c, a*d+b\n",
    "#     return (e%M)<<30|(f%M)\n",
    "# id_ = 1<<30     # Identity element of mapping\n",
    "# def mapping(f, x, size):\n",
    "#     a, b = f>>30, f&mask\n",
    "#     return (a*x + b*size)%M\n",
    "# def op(x, y): return (x+y)%M\n",
    "# e = 0           # Identity element of op\n",
    "\n",
    "\n",
    "# Range Sum Query without Modulo\n",
    "mask = (1<<30)-1  # 1<<30 is used because it is just greater than 1e9\n",
    "def composition(f, g):\n",
    "    a, b = f>>30, f&mask\n",
    "    c, d = g>>30, g&mask\n",
    "    e, f = a*c, a*d+b\n",
    "    return e<<30|f\n",
    "id_ = 1<<30     # Identity element of mapping\n",
    "def mapping(f, x, size):\n",
    "    a, b = f>>30, f&mask\n",
    "    return a*x + b*size\n",
    "def op(x, y): return x+y\n",
    "e = 0           # Identity element of op\n",
    "\n",
    "\n",
    "def encode(x, y): return x<<30|y\n",
    "def decode(z): return z>>30, z&mask"
   ]
  },
  {
   "cell_type": "code",
   "execution_count": 10,
   "metadata": {},
   "outputs": [],
   "source": [
    "A = list(range(10))\n",
    "seg = LazySegmentTree(len(A), e, id_, A)"
   ]
  },
  {
   "cell_type": "code",
   "execution_count": 11,
   "metadata": {},
   "outputs": [
    {
     "data": {
      "text/plain": [
       "STree([0, 1, 2, 3, 4, 5, 6, 7, 8, 9])"
      ]
     },
     "execution_count": 11,
     "metadata": {},
     "output_type": "execute_result"
    }
   ],
   "source": [
    "seg"
   ]
  },
  {
   "cell_type": "code",
   "execution_count": 12,
   "metadata": {},
   "outputs": [
    {
     "data": {
      "text/plain": [
       "STree([0, 1, 2, 3, 4, 3, 6, 7, 8, 9])"
      ]
     },
     "execution_count": 12,
     "metadata": {},
     "output_type": "execute_result"
    }
   ],
   "source": [
    "seg[5] = 3\n",
    "seg"
   ]
  },
  {
   "cell_type": "code",
   "execution_count": 13,
   "metadata": {},
   "outputs": [
    {
     "data": {
      "text/plain": [
       "STree([2, 2, 2, 2, 2, 3, 6, 7, 8, 9])"
      ]
     },
     "execution_count": 13,
     "metadata": {},
     "output_type": "execute_result"
    }
   ],
   "source": [
    "seg.range_update(0, 5, 2)\n",
    "seg"
   ]
  },
  {
   "cell_type": "code",
   "execution_count": 14,
   "metadata": {},
   "outputs": [
    {
     "data": {
      "text/plain": [
       "STree([2, 2, 2, 2, 102, 103, 106, 7, 8, 9])"
      ]
     },
     "execution_count": 14,
     "metadata": {},
     "output_type": "execute_result"
    }
   ],
   "source": [
    "seg.range_add(4, 7, 100)\n",
    "seg"
   ]
  },
  {
   "cell_type": "code",
   "execution_count": 15,
   "metadata": {},
   "outputs": [
    {
     "data": {
      "text/plain": [
       "207"
      ]
     },
     "execution_count": 15,
     "metadata": {},
     "output_type": "execute_result"
    }
   ],
   "source": [
    "seg.query(3, 6)"
   ]
  },
  {
   "cell_type": "code",
   "execution_count": null,
   "metadata": {},
   "outputs": [],
   "source": []
  }
 ],
 "metadata": {
  "kernelspec": {
   "display_name": "Python 3.9.0 64-bit",
   "language": "python",
   "name": "python3"
  },
  "language_info": {
   "codemirror_mode": {
    "name": "ipython",
    "version": 3
   },
   "file_extension": ".py",
   "mimetype": "text/x-python",
   "name": "python",
   "nbconvert_exporter": "python",
   "pygments_lexer": "ipython3",
   "version": "3.9.0"
  },
  "orig_nbformat": 4,
  "vscode": {
   "interpreter": {
    "hash": "8f5816e6188795d1cc8afa4306b69c5e3a103f064a75e820fe776234e4cf83e8"
   }
  }
 },
 "nbformat": 4,
 "nbformat_minor": 2
}
