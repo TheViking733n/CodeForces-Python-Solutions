{
 "cells": [
  {
   "cell_type": "code",
   "execution_count": 60,
   "metadata": {},
   "outputs": [],
   "source": [
    "class FenwickTree:\n",
    "    def __init__(self, x):\n",
    "        \"\"\"transform list into BIT\"\"\"\n",
    "        self.arr = x\n",
    "        x = self.bit = x[:]\n",
    "        for i in range(len(x)):\n",
    "            j = i | (i + 1)\n",
    "            if j < len(x):\n",
    "                x[j] += x[i]\n",
    "\n",
    "    def update(self, idx, x):\n",
    "        \"\"\"updates bit[idx] += x\"\"\"\n",
    "        self.arr[idx] += x\n",
    "        while idx < len(self.bit):\n",
    "            self.bit[idx] += x\n",
    "            idx |= idx + 1\n",
    "\n",
    "    def __getitem__(self, idx):\n",
    "        return self.arr[idx]\n",
    "    \n",
    "    def __setitem__(self, idx, x):\n",
    "        \"\"\"updates bit[idx] = x\"\"\"\n",
    "        self.update(idx, x - self.arr[idx])\n",
    "    \n",
    "    def __iadd__(self, idx, x):\n",
    "        \"\"\"updates bit[idx] += x\"\"\"\n",
    "        self.update(idx, x)\n",
    "\n",
    "\n",
    "    def _sum(self, end):\n",
    "        \"\"\"calc sum from [0, end) (zero based)\"\"\"\n",
    "        x = 0\n",
    "        try:\n",
    "            while end > 0:\n",
    "                x += self.bit[end - 1]\n",
    "                end &= end - 1\n",
    "            return x\n",
    "        except:\n",
    "            print(end)\n",
    "            exit(1)\n",
    "    \n",
    "    def query(self, begin, end):\n",
    "        \"\"\"calc sum from [begin, end) (zero based)\"\"\"\n",
    "        if begin >= end:\n",
    "            return 0\n",
    "        return self._sum(end) - self._sum(begin)\n",
    "\n",
    "    def findkth(self, k):\n",
    "        \"\"\"Find largest idx such that sum from [0, idx) <= k\"\"\"\n",
    "        idx = -1\n",
    "        for d in reversed(range(len(self.bit).bit_length())):\n",
    "            right_idx = idx + (1 << d)\n",
    "            if right_idx < len(self.bit) and k >= self.bit[right_idx]:\n",
    "                idx = right_idx\n",
    "                k -= self.bit[idx]\n",
    "        return idx + 1\n",
    "    \n",
    "    def __repr__(self):\n",
    "        return \"BIT({})\".format(self.arr)\n",
    "\n",
    "\n",
    "class SortedMultiSet:\n",
    "    def __init__(self, iterable=[], max_n=2 * 10**5):\n",
    "        \"\"\"Initialize sorted list instance.\"\"\"\n",
    "        self.N = max_n + 1\n",
    "        self.fen = FenwickTree([0] * self.N)\n",
    "        self.size = len(iterable)\n",
    "        for x in iterable:\n",
    "            self.fen.update(x, 1)\n",
    "    \n",
    "    def __getitem__(self, idx):\n",
    "        \"\"\"Lookup value at `idx`.\"\"\"\n",
    "        if not -self.size <= idx < self.size:\n",
    "            raise IndexError(\"list index out of range\")\n",
    "        if idx < 0:\n",
    "            idx += self.size\n",
    "        return self.fen.findkth(idx + 1)\n",
    "    \n",
    "    def remove(self, x):\n",
    "        \"\"\"Remove first occurrence of value.\"\"\"\n",
    "        assert 0 <= x < self.N\n",
    "        if self.fen[x] == 0:\n",
    "            return False\n",
    "        self.fen.update(x, -1)\n",
    "        self.size -= 1\n",
    "        return True\n",
    "\n",
    "    def add(self, x):\n",
    "        \"\"\"Add value to sorted list.\"\"\"\n",
    "        assert 0 <= x < self.N\n",
    "        self.fen.update(x, 1)\n",
    "        self.size += 1\n",
    "\n",
    "    def __contains__(self, x):\n",
    "        \"\"\"Return true if `x` in sorted list.\"\"\"\n",
    "        assert 0 <= x < self.N\n",
    "        return self.fen[x] > 0\n",
    "    \n",
    "    def max(self):\n",
    "        \"\"\"Return max value in sorted list.\"\"\"\n",
    "        assert self.size > 0\n",
    "        return self.fen.findkth(self.size-1)\n",
    "    \n",
    "    def min(self):\n",
    "        \"\"\"Return min value in sorted list.\"\"\"\n",
    "        assert self.size > 0\n",
    "        return self.fen.findkth(0)\n",
    "    \n",
    "    def __len__(self):\n",
    "        \"\"\"Return the size of sorted list.\"\"\"\n",
    "        return self.size\n",
    "    \n",
    "    def __bool__(self):\n",
    "        \"\"\"Return `True` when sorted list is not empty.\"\"\"\n",
    "        return not self.size == 0\n",
    "\n",
    "    def __repr__(self):\n",
    "        \"\"\"Return string representation of sorted list.\"\"\"\n",
    "        ans = []\n",
    "        for i in range(self.N):\n",
    "            ans.extend([i] * self.fen[i])\n",
    "        return \"SortedMultiSet({})\".format(ans)\n",
    "    "
   ]
  },
  {
   "cell_type": "code",
   "execution_count": 61,
   "metadata": {},
   "outputs": [],
   "source": [
    "arr = [1, 2, 3, 4, 5]\n",
    "multi = SortedMultiSet(arr)"
   ]
  },
  {
   "cell_type": "code",
   "execution_count": 64,
   "metadata": {},
   "outputs": [
    {
     "data": {
      "text/plain": [
       "10"
      ]
     },
     "execution_count": 64,
     "metadata": {},
     "output_type": "execute_result"
    }
   ],
   "source": [
    "multi.max()"
   ]
  },
  {
   "cell_type": "code",
   "execution_count": 67,
   "metadata": {},
   "outputs": [],
   "source": [
    "multi.add(100)"
   ]
  },
  {
   "cell_type": "code",
   "execution_count": 68,
   "metadata": {},
   "outputs": [
    {
     "data": {
      "text/plain": [
       "SortedMultiSet([1, 2, 3, 4, 5, 10, 100])"
      ]
     },
     "execution_count": 68,
     "metadata": {},
     "output_type": "execute_result"
    }
   ],
   "source": [
    "multi"
   ]
  },
  {
   "cell_type": "code",
   "execution_count": 66,
   "metadata": {},
   "outputs": [
    {
     "data": {
      "text/plain": [
       "False"
      ]
     },
     "execution_count": 66,
     "metadata": {},
     "output_type": "execute_result"
    }
   ],
   "source": [
    "multi.remove(0)"
   ]
  },
  {
   "cell_type": "code",
   "execution_count": null,
   "metadata": {},
   "outputs": [],
   "source": []
  }
 ],
 "metadata": {
  "kernelspec": {
   "display_name": "Python 3",
   "language": "python",
   "name": "python3"
  },
  "language_info": {
   "codemirror_mode": {
    "name": "ipython",
    "version": 3
   },
   "file_extension": ".py",
   "mimetype": "text/x-python",
   "name": "python",
   "nbconvert_exporter": "python",
   "pygments_lexer": "ipython3",
   "version": "3.9.0"
  },
  "orig_nbformat": 4
 },
 "nbformat": 4,
 "nbformat_minor": 2
}
