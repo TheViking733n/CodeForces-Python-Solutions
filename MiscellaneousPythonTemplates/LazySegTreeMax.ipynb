{
 "cells": [
  {
   "cell_type": "code",
   "execution_count": 5,
   "metadata": {},
   "outputs": [],
   "source": [
    "class LazySegmentTree:\n",
    "    def __init__(self, data, default=0, func=max):\n",
    "        \"\"\"initialize the lazy segment tree with data\"\"\"\n",
    "        self._default = default\n",
    "        self._func = func\n",
    "\n",
    "        self._len = len(data)\n",
    "        self._size = _size = 1 << (self._len - 1).bit_length()\n",
    "        self._lazy = [0] * (2 * _size)\n",
    "\n",
    "        self.data = [default] * (2 * _size)\n",
    "        self.data[_size:_size + self._len] = data\n",
    "        for i in reversed(range(_size)):\n",
    "            self.data[i] = func(self.data[i + i], self.data[i + i + 1])\n",
    "\n",
    "    def __len__(self):\n",
    "        return self._len\n",
    "\n",
    "    def _push(self, idx):\n",
    "        \"\"\"push query on idx to its children\"\"\"\n",
    "        # Let the children know of the queries\n",
    "        q, self._lazy[idx] = self._lazy[idx], 0\n",
    "\n",
    "        self._lazy[2 * idx] += q\n",
    "        self._lazy[2 * idx + 1] += q\n",
    "        self.data[2 * idx] += q\n",
    "        self.data[2 * idx + 1] += q\n",
    "\n",
    "    def _update(self, idx):\n",
    "        \"\"\"updates the node idx to know of all queries applied to it via its ancestors\"\"\"\n",
    "        for i in reversed(range(1, idx.bit_length())):\n",
    "            self._push(idx >> i)\n",
    "\n",
    "    def _build(self, idx):\n",
    "        \"\"\"make the changes to idx be known to its ancestors\"\"\"\n",
    "        idx >>= 1\n",
    "        while idx:\n",
    "            self.data[idx] = self._func(self.data[2 * idx], self.data[2 * idx + 1]) + self._lazy[idx]\n",
    "            idx >>= 1\n",
    "\n",
    "    def add(self, start, stop, value):\n",
    "        \"\"\"lazily add value to [start, stop)\"\"\"\n",
    "        start = start_copy = start + self._size\n",
    "        stop = stop_copy = stop + self._size\n",
    "        while start < stop:\n",
    "            if start & 1:\n",
    "                self._lazy[start] += value\n",
    "                self.data[start] += value\n",
    "                start += 1\n",
    "            if stop & 1:\n",
    "                stop -= 1\n",
    "                self._lazy[stop] += value\n",
    "                self.data[stop] += value\n",
    "            start >>= 1\n",
    "            stop >>= 1\n",
    "\n",
    "        # Tell all nodes above of the updated area of the updates\n",
    "        self._build(start_copy)\n",
    "        self._build(stop_copy - 1)\n",
    "\n",
    "    def query(self, start, stop, default=0):\n",
    "        \"\"\"func of data[start, stop)\"\"\"\n",
    "        start += self._size\n",
    "        stop += self._size\n",
    "\n",
    "        # Apply all the lazily stored queries\n",
    "        self._update(start)\n",
    "        self._update(stop - 1)\n",
    "\n",
    "        res = default\n",
    "        while start < stop:\n",
    "            if start & 1:\n",
    "                res = self._func(res, self.data[start])\n",
    "                start += 1\n",
    "            if stop & 1:\n",
    "                stop -= 1\n",
    "                res = self._func(res, self.data[stop])\n",
    "            start >>= 1\n",
    "            stop >>= 1\n",
    "        return res\n",
    "\n",
    "    def __repr__(self):\n",
    "        return \"LazySegmentTree({0})\".format([self.query(i, i + 1) for i in range(self._len)])"
   ]
  },
  {
   "cell_type": "code",
   "execution_count": 6,
   "metadata": {},
   "outputs": [],
   "source": [
    "seg = LazySegmentTree([1, 2, 3, 4, 5, 6, 7, 8, 9, 10])"
   ]
  },
  {
   "cell_type": "code",
   "execution_count": 12,
   "metadata": {},
   "outputs": [
    {
     "data": {
      "text/plain": [
       "107"
      ]
     },
     "execution_count": 12,
     "metadata": {},
     "output_type": "execute_result"
    }
   ],
   "source": [
    "seg.query(3, 6)"
   ]
  },
  {
   "cell_type": "code",
   "execution_count": 10,
   "metadata": {},
   "outputs": [
    {
     "data": {
      "text/plain": [
       "LazySegmentTree([2, 3, 4, 5, 6, 107, 108, 109, 110, 11])"
      ]
     },
     "execution_count": 10,
     "metadata": {},
     "output_type": "execute_result"
    }
   ],
   "source": [
    "seg"
   ]
  },
  {
   "cell_type": "code",
   "execution_count": null,
   "metadata": {},
   "outputs": [],
   "source": []
  }
 ],
 "metadata": {
  "kernelspec": {
   "display_name": "Python 3",
   "language": "python",
   "name": "python3"
  },
  "language_info": {
   "codemirror_mode": {
    "name": "ipython",
    "version": 3
   },
   "file_extension": ".py",
   "mimetype": "text/x-python",
   "name": "python",
   "nbconvert_exporter": "python",
   "pygments_lexer": "ipython3",
   "version": "3.9.0"
  },
  "orig_nbformat": 4
 },
 "nbformat": 4,
 "nbformat_minor": 2
}
