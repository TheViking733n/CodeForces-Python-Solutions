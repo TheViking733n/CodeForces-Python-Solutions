{
 "cells": [
  {
   "cell_type": "code",
   "execution_count": 3,
   "metadata": {},
   "outputs": [],
   "source": [
    "import random\n",
    "\n",
    "HMOD = 2147483647\n",
    "HBASE1 = random.randrange(HMOD)\n",
    "HBASE2 = random.randrange(HMOD)\n",
    "\n",
    "\n",
    "class Hashing:\n",
    "    def __init__(self, s, mod=HMOD, base1=HBASE1, base2=HBASE2):\n",
    "        self.mod, self.base1, self.base2 = mod, base1, base2\n",
    "        self._len = _len = len(s)\n",
    "        f_hash, f_pow = [0] * (_len + 1), [1] * (_len + 1)\n",
    "        s_hash, s_pow = f_hash[:], f_pow[:]\n",
    "        for i in range(_len):\n",
    "            f_hash[i + 1] = (base1 * f_hash[i] + s[i]) % mod\n",
    "            s_hash[i + 1] = (base2 * s_hash[i] + s[i]) % mod\n",
    "            f_pow[i + 1] = base1 * f_pow[i] % mod\n",
    "            s_pow[i + 1] = base2 * s_pow[i] % mod\n",
    "        self.f_hash, self.f_pow = f_hash, f_pow\n",
    "        self.s_hash, self.s_pow = s_hash, s_pow\n",
    "\n",
    "    def hashed(self, start, stop):\n",
    "        return (\n",
    "            (self.f_hash[stop] - self.f_pow[stop - start] * self.f_hash[start]) % self.mod,\n",
    "            (self.s_hash[stop] - self.s_pow[stop - start] * self.s_hash[start]) % self.mod,\n",
    "        )\n",
    "\n",
    "    def get_hashes(self, length):\n",
    "        return (\n",
    "            [(self.f_hash[i + length] - self.f_pow[length] * self.f_hash[i]) % self.mod for i in range(self._len - length + 1)],\n",
    "            [(self.s_hash[i + length] - self.s_pow[length] * self.s_hash[i]) % self.mod for i in range(self._len - length + 1)],\n",
    "        )"
   ]
  },
  {
   "cell_type": "code",
   "execution_count": 4,
   "metadata": {},
   "outputs": [
    {
     "ename": "TypeError",
     "evalue": "unsupported operand type(s) for +: 'int' and 'str'",
     "output_type": "error",
     "traceback": [
      "\u001b[1;31m---------------------------------------------------------------------------\u001b[0m",
      "\u001b[1;31mTypeError\u001b[0m                                 Traceback (most recent call last)",
      "\u001b[1;32m~\\AppData\\Local\\Temp/ipykernel_15308/1296805063.py\u001b[0m in \u001b[0;36m<module>\u001b[1;34m\u001b[0m\n\u001b[1;32m----> 1\u001b[1;33m \u001b[0mh\u001b[0m \u001b[1;33m=\u001b[0m \u001b[0mHashing\u001b[0m\u001b[1;33m(\u001b[0m\u001b[1;34m\"hello\"\u001b[0m\u001b[1;33m)\u001b[0m\u001b[1;33m\u001b[0m\u001b[1;33m\u001b[0m\u001b[0m\n\u001b[0m",
      "\u001b[1;32m~\\AppData\\Local\\Temp/ipykernel_15308/2014947803.py\u001b[0m in \u001b[0;36m__init__\u001b[1;34m(self, s, mod, base1, base2)\u001b[0m\n\u001b[0;32m     13\u001b[0m         \u001b[0ms_hash\u001b[0m\u001b[1;33m,\u001b[0m \u001b[0ms_pow\u001b[0m \u001b[1;33m=\u001b[0m \u001b[0mf_hash\u001b[0m\u001b[1;33m[\u001b[0m\u001b[1;33m:\u001b[0m\u001b[1;33m]\u001b[0m\u001b[1;33m,\u001b[0m \u001b[0mf_pow\u001b[0m\u001b[1;33m[\u001b[0m\u001b[1;33m:\u001b[0m\u001b[1;33m]\u001b[0m\u001b[1;33m\u001b[0m\u001b[1;33m\u001b[0m\u001b[0m\n\u001b[0;32m     14\u001b[0m         \u001b[1;32mfor\u001b[0m \u001b[0mi\u001b[0m \u001b[1;32min\u001b[0m \u001b[0mrange\u001b[0m\u001b[1;33m(\u001b[0m\u001b[0m_len\u001b[0m\u001b[1;33m)\u001b[0m\u001b[1;33m:\u001b[0m\u001b[1;33m\u001b[0m\u001b[1;33m\u001b[0m\u001b[0m\n\u001b[1;32m---> 15\u001b[1;33m             \u001b[0mf_hash\u001b[0m\u001b[1;33m[\u001b[0m\u001b[0mi\u001b[0m \u001b[1;33m+\u001b[0m \u001b[1;36m1\u001b[0m\u001b[1;33m]\u001b[0m \u001b[1;33m=\u001b[0m \u001b[1;33m(\u001b[0m\u001b[0mbase1\u001b[0m \u001b[1;33m*\u001b[0m \u001b[0mf_hash\u001b[0m\u001b[1;33m[\u001b[0m\u001b[0mi\u001b[0m\u001b[1;33m]\u001b[0m \u001b[1;33m+\u001b[0m \u001b[0ms\u001b[0m\u001b[1;33m[\u001b[0m\u001b[0mi\u001b[0m\u001b[1;33m]\u001b[0m\u001b[1;33m)\u001b[0m \u001b[1;33m%\u001b[0m \u001b[0mmod\u001b[0m\u001b[1;33m\u001b[0m\u001b[1;33m\u001b[0m\u001b[0m\n\u001b[0m\u001b[0;32m     16\u001b[0m             \u001b[0ms_hash\u001b[0m\u001b[1;33m[\u001b[0m\u001b[0mi\u001b[0m \u001b[1;33m+\u001b[0m \u001b[1;36m1\u001b[0m\u001b[1;33m]\u001b[0m \u001b[1;33m=\u001b[0m \u001b[1;33m(\u001b[0m\u001b[0mbase2\u001b[0m \u001b[1;33m*\u001b[0m \u001b[0ms_hash\u001b[0m\u001b[1;33m[\u001b[0m\u001b[0mi\u001b[0m\u001b[1;33m]\u001b[0m \u001b[1;33m+\u001b[0m \u001b[0ms\u001b[0m\u001b[1;33m[\u001b[0m\u001b[0mi\u001b[0m\u001b[1;33m]\u001b[0m\u001b[1;33m)\u001b[0m \u001b[1;33m%\u001b[0m \u001b[0mmod\u001b[0m\u001b[1;33m\u001b[0m\u001b[1;33m\u001b[0m\u001b[0m\n\u001b[0;32m     17\u001b[0m             \u001b[0mf_pow\u001b[0m\u001b[1;33m[\u001b[0m\u001b[0mi\u001b[0m \u001b[1;33m+\u001b[0m \u001b[1;36m1\u001b[0m\u001b[1;33m]\u001b[0m \u001b[1;33m=\u001b[0m \u001b[0mbase1\u001b[0m \u001b[1;33m*\u001b[0m \u001b[0mf_pow\u001b[0m\u001b[1;33m[\u001b[0m\u001b[0mi\u001b[0m\u001b[1;33m]\u001b[0m \u001b[1;33m%\u001b[0m \u001b[0mmod\u001b[0m\u001b[1;33m\u001b[0m\u001b[1;33m\u001b[0m\u001b[0m\n",
      "\u001b[1;31mTypeError\u001b[0m: unsupported operand type(s) for +: 'int' and 'str'"
     ]
    }
   ],
   "source": [
    "h = Hashing(\"hello\")"
   ]
  },
  {
   "cell_type": "code",
   "execution_count": 5,
   "metadata": {},
   "outputs": [],
   "source": [
    "def partial(s):\n",
    "    g, pi = 0, [0] * len(s)\n",
    "    for i in range(1, len(s)):\n",
    "        while g and (s[g] != s[i]):\n",
    "            g = pi[g - 1]\n",
    "        pi[i] = g = g + (s[g] == s[i])\n",
    "    return pi\n",
    "\n",
    "\n",
    "def match(s, pat):\n",
    "    pi = partial(pat)\n",
    "    g, idx = 0, []\n",
    "    for i in range(len(s)):\n",
    "        while g and pat[g] != s[i]:\n",
    "            g = pi[g - 1]\n",
    "        g += pat[g] == s[i]\n",
    "        if g == len(pi):\n",
    "            idx.append(i + 1 - g)\n",
    "            g = pi[g - 1]\n",
    "    return idx\n",
    "\n",
    "\n",
    "def string_find(s, pat):\n",
    "    pi = partial(pat)\n",
    "    g = 0\n",
    "    for i in range(len(s)):\n",
    "        while g and pat[g] != s[i]:\n",
    "            g = pi[g - 1]\n",
    "        g += pat[g] == s[i]\n",
    "        if g == len(pi):\n",
    "            return True\n",
    "    return False"
   ]
  },
  {
   "cell_type": "code",
   "execution_count": 9,
   "metadata": {},
   "outputs": [],
   "source": [
    "txt = list(\"AAAAABAAABA\")\n",
    "pat = list(\"AAAA\")"
   ]
  },
  {
   "cell_type": "code",
   "execution_count": 12,
   "metadata": {},
   "outputs": [
    {
     "data": {
      "text/plain": [
       "[0, 1]"
      ]
     },
     "execution_count": 12,
     "metadata": {},
     "output_type": "execute_result"
    }
   ],
   "source": [
    "match(txt, pat)"
   ]
  },
  {
   "cell_type": "code",
   "execution_count": 11,
   "metadata": {},
   "outputs": [
    {
     "data": {
      "text/plain": [
       "(['A', 'A', 'A', 'A', 'A', 'B', 'A', 'A', 'A', 'B', 'A'], ['A', 'A', 'A', 'A'])"
      ]
     },
     "execution_count": 11,
     "metadata": {},
     "output_type": "execute_result"
    }
   ],
   "source": [
    "txt, pat"
   ]
  },
  {
   "cell_type": "code",
   "execution_count": null,
   "metadata": {},
   "outputs": [],
   "source": []
  }
 ],
 "metadata": {
  "kernelspec": {
   "display_name": "Python 3.9.0 64-bit",
   "language": "python",
   "name": "python3"
  },
  "language_info": {
   "codemirror_mode": {
    "name": "ipython",
    "version": 3
   },
   "file_extension": ".py",
   "mimetype": "text/x-python",
   "name": "python",
   "nbconvert_exporter": "python",
   "pygments_lexer": "ipython3",
   "version": "3.9.0"
  },
  "orig_nbformat": 4,
  "vscode": {
   "interpreter": {
    "hash": "8f5816e6188795d1cc8afa4306b69c5e3a103f064a75e820fe776234e4cf83e8"
   }
  }
 },
 "nbformat": 4,
 "nbformat_minor": 2
}
